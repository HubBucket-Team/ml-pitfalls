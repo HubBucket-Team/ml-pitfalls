{
 "cells": [
  {
   "cell_type": "markdown",
   "metadata": {},
   "source": [
    "### Unbalanced Labels in the Regression Setting\n",
    "\n",
    "When one referenced to unbalanced data they almost exclusively refer to it in the context of classification tasks where the label categories are not equally likely to be observed. The classification context is extremely common in genomics and has challenges that must be handled appropriately. However, a much less talked about setting is unbalanced data in the regression setting. Here, the distribution of continuous-valued labels is not the same between tasks. When models are trained that simply sum the loss across all tasks during training, tasks with lower-valued distributions tend to be ignored and those with higher-valued distributions are focused on. Unfortunately, this strategy of summing the loss across tasks is fairly common in built-in machine learning packages such as scikit-learn, and pretty much ubiquitous for deep learning frameworks. "
   ]
  },
  {
   "cell_type": "code",
   "execution_count": 1,
   "metadata": {},
   "outputs": [
    {
     "name": "stdout",
     "output_type": "stream",
     "text": [
      "Populating the interactive namespace from numpy and matplotlib\n"
     ]
    }
   ],
   "source": [
    "%pylab inline\n",
    "import seaborn\n",
    "seaborn.set_style('whitegrid')"
   ]
  },
  {
   "cell_type": "markdown",
   "metadata": {},
   "source": [
    "Let's start off with a simple example where we generate a synthetic data set of Gaussian random values with linear combinations, with some Gaussian noise added on top, being the labels. For one task the weights used in the linear combinations for one task will be drawn from ~N(0, 1) and the other task will have weights drawn from ~N(0, 10)."
   ]
  },
  {
   "cell_type": "code",
   "execution_count": 2,
   "metadata": {},
   "outputs": [],
   "source": [
    "numpy.random.seed(0)\n",
    "\n",
    "train_size, test_size = 200, 50\n",
    "\n",
    "X = numpy.random.randn(train_size + test_size, 20)\n",
    "w = numpy.random.randn(20, 2)\n",
    "w[:,1] *= 10\n",
    "\n",
    "Y = X.dot(w) + numpy.random.randn(X.shape[0], 2)\n",
    "\n",
    "X_train, X_test = X[:train_size], X[train_size:]\n",
    "Y_train, Y_test = Y[:train_size], Y[train_size:]"
   ]
  },
  {
   "cell_type": "markdown",
   "metadata": {},
   "source": [
    "Let's look at the distributions of labels in the training set for the two tasks."
   ]
  },
  {
   "cell_type": "code",
   "execution_count": 3,
   "metadata": {},
   "outputs": [
    {
     "data": {
      "image/png": "[encoded data removed]",
      "text/plain": [
       "<Figure size 216x216 with 1 Axes>"
      ]
     },
     "metadata": {},
     "output_type": "display_data"
    }
   ],
   "source": [
    "plt.figure(figsize=(3, 3))\n",
    "ax = plt.subplot(111)\n",
    "\n",
    "seaborn.boxplot(data=Y_train, ax=ax, width=0.2)\n",
    "plt.ylabel(\"Value\", fontsize=12)\n",
    "plt.xticks([0, 1], [\"Task 1\", \"Task 2\"], fontsize=12)\n",
    "plt.show()"
   ]
  },
  {
   "cell_type": "markdown",
   "metadata": {},
   "source": [
    "Task 2 clearly has the larger dynamic range, going from around -100 to around 100.\n",
    "\n",
    "How accurate is a model that only predicts Task 1? We will measure performance using the simple mean-squared-error."
   ]
  },
  {
   "cell_type": "code",
   "execution_count": 4,
   "metadata": {},
   "outputs": [
    {
     "data": {
      "text/plain": [
       "19.12268449181347"
      ]
     },
     "execution_count": 4,
     "metadata": {},
     "output_type": "execute_result"
    }
   ],
   "source": [
    "from sklearn.ensemble import RandomForestRegressor\n",
    "\n",
    "model1 = RandomForestRegressor()\n",
    "model1.fit(X_train, Y_train[:,0])\n",
    "X_hat1 = model1.predict(X_test)\n",
    "\n",
    "((X_hat1 - Y_test[:,0]) ** 2).mean()"
   ]
  },
  {
   "cell_type": "markdown",
   "metadata": {},
   "source": [
    "Now, let's see what happens when we train a model that predicts both Task 1 and Task 2 but we evaluate only it's ability to perform Task 1. The data and labels for Task 1 will remain the same---the only difference is that it's also making predictions for Task 2. "
   ]
  },
  {
   "cell_type": "code",
   "execution_count": 5,
   "metadata": {},
   "outputs": [
    {
     "data": {
      "text/plain": [
       "23.918498383095617"
      ]
     },
     "execution_count": 5,
     "metadata": {},
     "output_type": "execute_result"
    }
   ],
   "source": [
    "model2 = RandomForestRegressor()\n",
    "model2.fit(X_train, Y_train)\n",
    "X_hat2 = model2.predict(X_test)[:,0]\n",
    "\n",
    "((X_hat2 - Y_test[:,0]) ** 2).mean()"
   ]
  },
  {
   "cell_type": "markdown",
   "metadata": {},
   "source": [
    "Looks like the error is much higher on Task 1 even though the data and labels are still there. That's because the model is trained to predict both tasks and the larger dynamic range of Task 2 causes the model to focus on it. How do we know that's the case? Let's decrease the weight of Task 2 and see what the error is."
   ]
  },
  {
   "cell_type": "code",
   "execution_count": 6,
   "metadata": {},
   "outputs": [
    {
     "name": "stdout",
     "output_type": "stream",
     "text": [
      "Single Task Model MSE: 19.123\n",
      "Multitask Model MSE: 17.143\n"
     ]
    }
   ],
   "source": [
    "numpy.random.seed(0)\n",
    "\n",
    "X = numpy.random.randn(train_size + test_size, 20)\n",
    "w = numpy.random.randn(20, 2)\n",
    "\n",
    "Y = X.dot(w) + numpy.random.randn(X.shape[0], 2)\n",
    "\n",
    "X_train, X_test = X[:train_size], X[train_size:]\n",
    "Y_train, Y_test = Y[:train_size], Y[train_size:]\n",
    "\n",
    "model1 = RandomForestRegressor()\n",
    "model1.fit(X_train, Y_train[:,0])\n",
    "X_hat1 = model1.predict(X_test)\n",
    "\n",
    "model2 = RandomForestRegressor()\n",
    "model2.fit(X_train, Y_train)\n",
    "X_hat2 = model2.predict(X_test)[:,0]\n",
    "\n",
    "print(\"Single Task Model MSE: {:5.5}\".format(((X_hat1 - Y_test[:,0]) ** 2).mean()))\n",
    "print(\"Multitask Model MSE: {:5.5}\".format(((X_hat2 - Y_test[:,0]) ** 2).mean()))"
   ]
  },
  {
   "cell_type": "markdown",
   "metadata": {},
   "source": [
    "When the two tasks have equal weight we see that the multitask model has a lower MSE than the single task model, potentially because it's able to use the second task as a regularization against noise.\n",
    "\n",
    "Rather than focus on two weights, let's do a full scan and use several random initializations to make sure the effects of what we're seeing aren't due to noise."
   ]
  },
  {
   "cell_type": "code",
   "execution_count": 7,
   "metadata": {},
   "outputs": [],
   "source": [
    "def mse(X, Y):\n",
    "    return ((X - Y) ** 2).mean()\n",
    "\n",
    "\n",
    "mse1, mse2 = [], []\n",
    "\n",
    "alphas = 10 ** numpy.arange(-4, 4.1, 0.5)\n",
    "for alpha in alphas:\n",
    "    mse1.append([])\n",
    "    mse2.append([])\n",
    "    \n",
    "    for i in range(10):\n",
    "        numpy.random.seed(i)\n",
    "\n",
    "        X = numpy.random.randn(train_size + test_size, 20)\n",
    "        w = numpy.random.randn(20, 2)\n",
    "        w[:,1] *= alpha\n",
    "\n",
    "        Y = X.dot(w) + numpy.random.randn(X.shape[0], 2)\n",
    "\n",
    "        X_train, X_test = X[:train_size], X[train_size:]\n",
    "        Y_train, Y_test = Y[:train_size], Y[train_size:]\n",
    "\n",
    "        model1 = RandomForestRegressor()\n",
    "        model1.fit(X_train, Y_train[:,0])\n",
    "\n",
    "        model2 = RandomForestRegressor()\n",
    "        model2.fit(X_train, Y_train)\n",
    "\n",
    "        X_hat1 = model1.predict(X_test)\n",
    "        X_hat2 = model2.predict(X_test)[:,0]\n",
    "\n",
    "        mse1[-1].append(mse(X_hat1, Y_test[:,0]))\n",
    "        mse2[-1].append(mse(X_hat2, Y_test[:,0]))\n",
    "\n",
    "mse1 = numpy.array(mse1)\n",
    "mse2 = numpy.array(mse2)"
   ]
  },
  {
   "cell_type": "code",
   "execution_count": 8,
   "metadata": {},
   "outputs": [
    {
     "data": {
      "image/png": "[encoded data removed]",
      "text/plain": [
       "<Figure size 432x288 with 1 Axes>"
      ]
     },
     "metadata": {},
     "output_type": "display_data"
    }
   ],
   "source": [
    "mu1, std1 = mse1.mean(axis=1), mse1.std(axis=1)\n",
    "mu2, std2 = mse2.mean(axis=1), mse2.std(axis=1)\n",
    "\n",
    "plt.plot(alphas, mu1, label=\"Single Task Task 1 MSE\")\n",
    "plt.plot(alphas, mu2, label=\"Multitask Task 1 MSE\")\n",
    "plt.plot([1, 1], [5, 25], color='k')\n",
    "\n",
    "plt.fill_between(alphas, mu1-std1, mu1+std1, alpha=0.3)\n",
    "plt.fill_between(alphas, mu2-std2, mu2+std2, alpha=0.3)\n",
    "\n",
    "plt.xscale('log')\n",
    "plt.xticks(rotation=90)\n",
    "plt.xlabel(\"Task 2 Weight Multiplier\", fontsize=12)\n",
    "plt.ylabel(\"MSE\", fontsize=12)\n",
    "plt.legend(fontsize=12, loc=(1.01, 0.3))\n",
    "\n",
    "seaborn.despine()\n",
    "plt.show()"
   ]
  },
  {
   "cell_type": "markdown",
   "metadata": {},
   "source": [
    "We can clearly see here that there is an inflection point at the black line where the two tasks are equally weighted. On the left side of that plot, the single and multitask models achieve roughly the same MSE on Task 1. However, on the right hand side of the line, where Task 2 has a larger dynamic range than Task 1, the performance on Task 1 starts to rapidly decrease for the multitask model.\n",
    "\n",
    "What does this have to do with biology? Well, the gist is that when you train a multitask model, the overall performance across all tasks may be a misleading performance measure. Overall performance will be dominated by tasks with the largest dynamic range. Indeed, as we see here, including tasks with varying dynamic ranges may actually caused the trained model to perform WORSE on the tasks with a smaller dynamic range because they comprise such a small part of the overall objective function."
   ]
  }
 ],
 "metadata": {
  "kernelspec": {
   "display_name": "Python 3",
   "language": "python",
   "name": "python3"
  },
  "language_info": {
   "codemirror_mode": {
    "name": "ipython",
    "version": 3
   },
   "file_extension": ".py",
   "mimetype": "text/x-python",
   "name": "python",
   "nbconvert_exporter": "python",
   "pygments_lexer": "ipython3",
   "version": "3.7.4"
  }
 },
 "nbformat": 4,
 "nbformat_minor": 4
}
